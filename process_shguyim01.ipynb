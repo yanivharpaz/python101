{
 "cells": [
  {
   "cell_type": "code",
   "execution_count": null,
   "metadata": {
    "collapsed": true
   },
   "outputs": [],
   "source": [
    "import sys\n",
    "\n",
    "\n",
    "def main(file_path=r't:\\tmp\\cl01.txt'):\n",
    "    print(\"Opening \", file_path)\n",
    "    with open(file_path, encoding=\"Windows-1255\") as input_file:\n",
    "        lines = input_file.read()\n",
    "        print(len(lines))\n",
    "\n",
    "        sep_counter = 0\n",
    "        for line in lines:\n",
    "            line_items = line.split('\\u200e')\n",
    "            print(len(line_items), line_items)\n",
    "\n",
    "        print(sep_counter)\n",
    "\n",
    "if __name__ == \"__main__\":\n",
    "    if len(sys.argv) < 2:\n",
    "        sys.exit(\"Usage: \\npython cl01.py [input_file]\")\n",
    "    main(sys.argv[1])\n",
    "    "
   ]
  }
 ],
 "metadata": {
  "kernelspec": {
   "display_name": "Python 2",
   "language": "python",
   "name": "python2"
  },
  "language_info": {
   "codemirror_mode": {
    "name": "ipython",
    "version": 2
   },
   "file_extension": ".py",
   "mimetype": "text/x-python",
   "name": "python",
   "nbconvert_exporter": "python",
   "pygments_lexer": "ipython2",
   "version": "2.7.6"
  }
 },
 "nbformat": 4,
 "nbformat_minor": 0
}
